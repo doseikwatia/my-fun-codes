{
 "cells": [
  {
   "cell_type": "code",
   "execution_count": 1,
   "metadata": {},
   "outputs": [],
   "source": [
    "import numpy as np\n",
    "import matplotlib.pyplot as plt"
   ]
  },
  {
   "cell_type": "code",
   "execution_count": 2,
   "metadata": {},
   "outputs": [],
   "source": [
    "def text_to_ascii(text:str):\n",
    "    result = np.array([ord(a) for a in text])\n",
    "    return result\n",
    "\n",
    "def ascii_to_text(code):\n",
    "    result = ''.join([chr(c) for c in code])\n",
    "    return result\n",
    "\n",
    "def distance(text_1, text_2):\n",
    "    v_1 = text_to_ascii(text_1)\n",
    "    v_2 = text_to_ascii(text_2)\n",
    "    dist = np.linalg.norm(v_1 - v_2)\n",
    "    return dist\n",
    "\n",
    "def mate(text_1, text_2):\n",
    "    length = len(text_1)\n",
    "    pos = np.random.randint(0, length)\n",
    "    child = text_1[:pos] + text_2[pos:]\n",
    "    return child\n",
    "\n",
    "def sample_domain(domain,length):\n",
    "    result = ''.join(np.random.choice(np.array(list(domain)),size=length))\n",
    "    return result"
   ]
  },
  {
   "cell_type": "code",
   "execution_count": 3,
   "metadata": {},
   "outputs": [],
   "source": [
    "N = 100\n",
    "alpha_offset = 65\n",
    "domain = ascii_to_text(alpha_offset + np.arange(29*2)) + ' '\n",
    "target = 'Daniel Osei Kwatia'\n",
    "tgt_len = len(target)"
   ]
  },
  {
   "cell_type": "code",
   "execution_count": 4,
   "metadata": {},
   "outputs": [
    {
     "name": "stdout",
     "output_type": "stream",
     "text": [
      "ABCDEFGHIJKLMNOPQRSTUVWXYZ[\\]^_`abcdefghijklmnopqrstuvwxyz \n"
     ]
    }
   ],
   "source": [
    "print(domain)"
   ]
  },
  {
   "cell_type": "code",
   "execution_count": 5,
   "metadata": {},
   "outputs": [],
   "source": [
    "def mutate(text,domain, rate = 0.1):\n",
    "    length = len(text)\n",
    "    text_arr= list(text)\n",
    "    for i in range(length):\n",
    "        text_arr[i] = text_arr[i] if np.random.rand() > rate else sample_domain(domain,1)\n",
    "    result = ''.join(text_arr)\n",
    "    return result"
   ]
  },
  {
   "cell_type": "code",
   "execution_count": 6,
   "metadata": {},
   "outputs": [],
   "source": [
    "#initialize the population\n",
    "population = [{'text': sample_domain(domain, tgt_len), 'score':0.0} for _ in range(N)]"
   ]
  },
  {
   "cell_type": "code",
   "execution_count": 7,
   "metadata": {},
   "outputs": [],
   "source": [
    "#function to perform the evolution\n",
    "def run_evolution(population,target,domain,mutation_rate,num_iteration):\n",
    "    population_size= len(population)\n",
    "    half_pop_size = int(population_size/2)\n",
    "    prob = np.ones(half_pop_size)/half_pop_size\n",
    "    avg_scores=[]\n",
    "    population = [{'text': p['text'], 'score': - distance(target, p['text'])} for p in population]\n",
    "    for _ in range(num_iteration):\n",
    "        population.sort(key=lambda i:i['score'], reverse=True)\n",
    "        new_pop = []\n",
    "        \n",
    "        while len(new_pop) != num_iteration:\n",
    "            parents = np.random.choice(population[:half_pop_size],2)\n",
    "            child_text = mate(parents[0]['text'],parents[1]['text'])\n",
    "            child_text = mutate(child_text, domain, rate= mutation_rate)\n",
    "            child = {'text': child_text, 'score': 0}\n",
    "            new_pop.append(child)\n",
    "            \n",
    "        #assign assign new population to \n",
    "        population = new_pop\n",
    "        #compute the scores\n",
    "        population = [{'text': p['text'], 'score': - distance(target, p['text'])} for p in population]\n",
    "        \n",
    "        avg_score = np.mean(list(map(lambda p:p['score'],population)))\n",
    "        avg_scores.append(avg_score)\n",
    "        \n",
    "    population.sort(key=lambda i:i['score'], reverse=True)\n",
    "    return population,avg_scores"
   ]
  },
  {
   "cell_type": "code",
   "execution_count": 8,
   "metadata": {},
   "outputs": [],
   "source": [
    "population = [{'text': p['text'], 'score': - distance(target, p['text'])} for p in population]\n",
    "num_iteration = 400\n",
    "mutation_rate = 0.01"
   ]
  },
  {
   "cell_type": "code",
   "execution_count": 9,
   "metadata": {},
   "outputs": [],
   "source": [
    "population, avg_scores=run_evolution(population, target, domain, mutation_rate, num_iteration)"
   ]
  },
  {
   "cell_type": "code",
   "execution_count": 10,
   "metadata": {},
   "outputs": [
    {
     "data": {
      "text/plain": [
       "[{'text': 'Daniel Osei Kwatia', 'score': -0.0},\n",
       " {'text': 'Daniel Osei Kwatia', 'score': -0.0},\n",
       " {'text': 'Daniel Osei Kwatia', 'score': -0.0},\n",
       " {'text': 'Daniel Osei Kwatia', 'score': -0.0},\n",
       " {'text': 'Daniel Osei Kwatia', 'score': -0.0},\n",
       " {'text': 'Daniel Osei Kwatia', 'score': -0.0},\n",
       " {'text': 'Daniel Osei Kwatia', 'score': -0.0},\n",
       " {'text': 'Daniel Osei Kwatia', 'score': -0.0},\n",
       " {'text': 'Daniel Osei Kwatia', 'score': -0.0},\n",
       " {'text': 'Daniel Osei Kwatia', 'score': -0.0}]"
      ]
     },
     "execution_count": 10,
     "metadata": {},
     "output_type": "execute_result"
    }
   ],
   "source": [
    "#select the best\n",
    "population[:10]"
   ]
  },
  {
   "cell_type": "code",
   "execution_count": 11,
   "metadata": {},
   "outputs": [
    {
     "data": {
      "image/png": "[encoded data removed]",
      "text/plain": [
       "<Figure size 432x288 with 1 Axes>"
      ]
     },
     "metadata": {
      "needs_background": "light"
     },
     "output_type": "display_data"
    }
   ],
   "source": [
    "#display results\n",
    "plt.title('Score against generation')\n",
    "plt.plot(avg_scores)\n",
    "plt.xlabel('Generation')\n",
    "plt.ylabel('Score')\n",
    "plt.show()"
   ]
  },
  {
   "cell_type": "code",
   "execution_count": null,
   "metadata": {},
   "outputs": [],
   "source": []
  }
 ],
 "metadata": {
  "kernelspec": {
   "display_name": "rl_gym_book",
   "language": "python",
   "name": "rl_gym_book"
  },
  "language_info": {
   "codemirror_mode": {
    "name": "ipython",
    "version": 3
   },
   "file_extension": ".py",
   "mimetype": "text/x-python",
   "name": "python",
   "nbconvert_exporter": "python",
   "pygments_lexer": "ipython3",
   "version": "3.6.13"
  }
 },
 "nbformat": 4,
 "nbformat_minor": 4
}
